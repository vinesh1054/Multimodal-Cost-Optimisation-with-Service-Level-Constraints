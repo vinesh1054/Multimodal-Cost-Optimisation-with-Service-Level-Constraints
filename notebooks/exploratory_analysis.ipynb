{
  "cells": [
    {
      "cell_type": "markdown",
      "metadata": {
        "id": "2tJo2hJXmuiL"
      },
      "source": [
        "# Multimodal Cost Optimization with Service Level Constraints"
      ]
    },
    {
      "cell_type": "markdown",
      "metadata": {
        "id": "zjOZt4lam1TB"
      },
      "source": [
        "## 1) Problem Statement\n",
        "\n",
        "The goal of this project is to optimize the assignment of shipping routes for customer orders in a supply chain network involving multiple warehouses, ports, carriers, and products.\n",
        "\n",
        "**Core Objectives**\n",
        "\n",
        "Minimize the total supply chain cost (including freight, storage, and operational costs) while respecting real-world constraints such as:\n",
        "\n",
        "- Warehouse capacities\n",
        "- Delivery service level agreements (SLAs)\n",
        "- Allowed warehouse-product-customer links\n",
        "- Transportation time (TPT)\n",
        "- Shipping port connections\n",
        "- Freight lane restrictions"
      ]
    },
    {
      "cell_type": "markdown",
      "metadata": {
        "id": "QaaIKTqXowQF"
      },
      "source": [
        "## 2) Data Collection"
      ]
    },
    {
      "cell_type": "markdown",
      "metadata": {
        "id": "fUFl7vTypDUZ"
      },
      "source": [
        "### 2.1 Import Data and Required Packages\n",
        "####  Importing Pandas, Numpy, Matplotlib, Seaborn and Warings Library."
      ]
    },
    {
      "cell_type": "code",
      "execution_count": 16,
      "metadata": {
        "id": "Cpl0lp4307J8"
      },
      "outputs": [],
      "source": [
        "import numpy as np\n",
        "import pandas as pd\n",
        "import matplotlib.pyplot as plt\n",
        "import seaborn as sns\n",
        "import warnings\n",
        "warnings.filterwarnings('ignore')"
      ]
    },
    {
      "cell_type": "markdown",
      "metadata": {
        "id": "SCVONwv5pPIm"
      },
      "source": [
        "#### Import the CSV Data as Pandas DataFrame"
      ]
    },
    {
      "cell_type": "code",
      "execution_count": 17,
      "metadata": {
        "id": "g2DYBawH2jNK"
      },
      "outputs": [],
      "source": [
        "df = pd.read_excel('D:\\\\01 VINESH_0\\\\Machine Learning\\\\Projects\\\\ML\\\\RouteOptimisation\\\\data\\\\Supply chain logisitcs problem.xlsx')"
      ]
    },
    {
      "cell_type": "markdown",
      "metadata": {
        "id": "SmEKu167pXb7"
      },
      "source": [
        "#### Show Top 5 Records"
      ]
    },
    {
      "cell_type": "code",
      "execution_count": 18,
      "metadata": {
        "colab": {
          "base_uri": "https://localhost:8080/",
          "height": 206
        },
        "id": "go4qlgTP3RH0",
        "outputId": "c773bc1e-156c-41ac-f8b9-f660f5c6145e"
      },
      "outputs": [
        {
          "data": {
            "text/html": [
              "<div>\n",
              "<style scoped>\n",
              "    .dataframe tbody tr th:only-of-type {\n",
              "        vertical-align: middle;\n",
              "    }\n",
              "\n",
              "    .dataframe tbody tr th {\n",
              "        vertical-align: top;\n",
              "    }\n",
              "\n",
              "    .dataframe thead th {\n",
              "        text-align: right;\n",
              "    }\n",
              "</style>\n",
              "<table border=\"1\" class=\"dataframe\">\n",
              "  <thead>\n",
              "    <tr style=\"text-align: right;\">\n",
              "      <th></th>\n",
              "      <th>Order ID</th>\n",
              "      <th>Order Date</th>\n",
              "      <th>Origin Port</th>\n",
              "      <th>Carrier</th>\n",
              "      <th>TPT</th>\n",
              "      <th>Service Level</th>\n",
              "      <th>Ship ahead day count</th>\n",
              "      <th>Ship Late Day count</th>\n",
              "      <th>Customer</th>\n",
              "      <th>Product ID</th>\n",
              "      <th>Plant Code</th>\n",
              "      <th>Destination Port</th>\n",
              "      <th>Unit quantity</th>\n",
              "      <th>Weight</th>\n",
              "    </tr>\n",
              "  </thead>\n",
              "  <tbody>\n",
              "    <tr>\n",
              "      <th>0</th>\n",
              "      <td>1.447296e+09</td>\n",
              "      <td>2013-05-26</td>\n",
              "      <td>PORT09</td>\n",
              "      <td>V44_3</td>\n",
              "      <td>1</td>\n",
              "      <td>CRF</td>\n",
              "      <td>3</td>\n",
              "      <td>0</td>\n",
              "      <td>V55555_53</td>\n",
              "      <td>1700106</td>\n",
              "      <td>PLANT16</td>\n",
              "      <td>PORT09</td>\n",
              "      <td>808</td>\n",
              "      <td>14.30</td>\n",
              "    </tr>\n",
              "    <tr>\n",
              "      <th>1</th>\n",
              "      <td>1.447158e+09</td>\n",
              "      <td>2013-05-26</td>\n",
              "      <td>PORT09</td>\n",
              "      <td>V44_3</td>\n",
              "      <td>1</td>\n",
              "      <td>CRF</td>\n",
              "      <td>3</td>\n",
              "      <td>0</td>\n",
              "      <td>V55555_53</td>\n",
              "      <td>1700106</td>\n",
              "      <td>PLANT16</td>\n",
              "      <td>PORT09</td>\n",
              "      <td>3188</td>\n",
              "      <td>87.94</td>\n",
              "    </tr>\n",
              "    <tr>\n",
              "      <th>2</th>\n",
              "      <td>1.447139e+09</td>\n",
              "      <td>2013-05-26</td>\n",
              "      <td>PORT09</td>\n",
              "      <td>V44_3</td>\n",
              "      <td>1</td>\n",
              "      <td>CRF</td>\n",
              "      <td>3</td>\n",
              "      <td>0</td>\n",
              "      <td>V55555_53</td>\n",
              "      <td>1700106</td>\n",
              "      <td>PLANT16</td>\n",
              "      <td>PORT09</td>\n",
              "      <td>2331</td>\n",
              "      <td>61.20</td>\n",
              "    </tr>\n",
              "    <tr>\n",
              "      <th>3</th>\n",
              "      <td>1.447364e+09</td>\n",
              "      <td>2013-05-26</td>\n",
              "      <td>PORT09</td>\n",
              "      <td>V44_3</td>\n",
              "      <td>1</td>\n",
              "      <td>CRF</td>\n",
              "      <td>3</td>\n",
              "      <td>0</td>\n",
              "      <td>V55555_53</td>\n",
              "      <td>1700106</td>\n",
              "      <td>PLANT16</td>\n",
              "      <td>PORT09</td>\n",
              "      <td>847</td>\n",
              "      <td>16.16</td>\n",
              "    </tr>\n",
              "    <tr>\n",
              "      <th>4</th>\n",
              "      <td>1.447364e+09</td>\n",
              "      <td>2013-05-26</td>\n",
              "      <td>PORT09</td>\n",
              "      <td>V44_3</td>\n",
              "      <td>1</td>\n",
              "      <td>CRF</td>\n",
              "      <td>3</td>\n",
              "      <td>0</td>\n",
              "      <td>V55555_53</td>\n",
              "      <td>1700106</td>\n",
              "      <td>PLANT16</td>\n",
              "      <td>PORT09</td>\n",
              "      <td>2163</td>\n",
              "      <td>52.34</td>\n",
              "    </tr>\n",
              "  </tbody>\n",
              "</table>\n",
              "</div>"
            ],
            "text/plain": [
              "       Order ID Order Date Origin Port Carrier  TPT Service Level  \\\n",
              "0  1.447296e+09 2013-05-26      PORT09   V44_3    1           CRF   \n",
              "1  1.447158e+09 2013-05-26      PORT09   V44_3    1           CRF   \n",
              "2  1.447139e+09 2013-05-26      PORT09   V44_3    1           CRF   \n",
              "3  1.447364e+09 2013-05-26      PORT09   V44_3    1           CRF   \n",
              "4  1.447364e+09 2013-05-26      PORT09   V44_3    1           CRF   \n",
              "\n",
              "   Ship ahead day count  Ship Late Day count   Customer  Product ID  \\\n",
              "0                     3                    0  V55555_53     1700106   \n",
              "1                     3                    0  V55555_53     1700106   \n",
              "2                     3                    0  V55555_53     1700106   \n",
              "3                     3                    0  V55555_53     1700106   \n",
              "4                     3                    0  V55555_53     1700106   \n",
              "\n",
              "  Plant Code Destination Port  Unit quantity  Weight  \n",
              "0    PLANT16           PORT09            808   14.30  \n",
              "1    PLANT16           PORT09           3188   87.94  \n",
              "2    PLANT16           PORT09           2331   61.20  \n",
              "3    PLANT16           PORT09            847   16.16  \n",
              "4    PLANT16           PORT09           2163   52.34  "
            ]
          },
          "execution_count": 18,
          "metadata": {},
          "output_type": "execute_result"
        }
      ],
      "source": [
        "df.head()"
      ]
    },
    {
      "cell_type": "markdown",
      "metadata": {
        "id": "Fo7rn7H2pbam"
      },
      "source": [
        "#### Shape of the dataset"
      ]
    },
    {
      "cell_type": "code",
      "execution_count": 19,
      "metadata": {
        "colab": {
          "base_uri": "https://localhost:8080/"
        },
        "id": "6OXFuZhb3WW3",
        "outputId": "180e95d0-e203-4859-e30b-949e4db33bae"
      },
      "outputs": [
        {
          "data": {
            "text/plain": [
              "(9215, 14)"
            ]
          },
          "execution_count": 19,
          "metadata": {},
          "output_type": "execute_result"
        }
      ],
      "source": [
        "df.shape"
      ]
    },
    {
      "cell_type": "code",
      "execution_count": null,
      "metadata": {
        "id": "RjCUgypzOOGn"
      },
      "outputs": [],
      "source": []
    },
    {
      "cell_type": "markdown",
      "metadata": {
        "id": "metvxQ6cpkBW"
      },
      "source": [
        "## 3) Data Checks to perform\n",
        "\n",
        "- Check Missing values\n",
        "- Check Duplicates\n",
        "- Check data type\n",
        "- Check the number of unique values of each column\n",
        "- Check statistics of data set\n",
        "- Check various categories present in the different categorical column"
      ]
    },
    {
      "cell_type": "markdown",
      "metadata": {
        "id": "os7LY6c3r8yh"
      },
      "source": [
        "### 3.1 Check Missing values"
      ]
    },
    {
      "cell_type": "code",
      "execution_count": 20,
      "metadata": {
        "colab": {
          "base_uri": "https://localhost:8080/",
          "height": 523
        },
        "id": "PaUJ5VbAOlPw",
        "outputId": "3974ff78-4655-4ac0-cf32-2f7597826f2d"
      },
      "outputs": [
        {
          "data": {
            "text/plain": [
              "Order ID                0\n",
              "Order Date              0\n",
              "Origin Port             0\n",
              "Carrier                 0\n",
              "TPT                     0\n",
              "Service Level           0\n",
              "Ship ahead day count    0\n",
              "Ship Late Day count     0\n",
              "Customer                0\n",
              "Product ID              0\n",
              "Plant Code              0\n",
              "Destination Port        0\n",
              "Unit quantity           0\n",
              "Weight                  0\n",
              "dtype: int64"
            ]
          },
          "execution_count": 20,
          "metadata": {},
          "output_type": "execute_result"
        }
      ],
      "source": [
        "#missing values:\n",
        "df.isnull().sum()"
      ]
    },
    {
      "cell_type": "markdown",
      "metadata": {
        "id": "yxjH85LXsDtT"
      },
      "source": [
        "#### There are no missing values in the data set"
      ]
    },
    {
      "cell_type": "markdown",
      "metadata": {
        "id": "2ANvYPQLsGZ8"
      },
      "source": [
        "### 3.2 Check Duplicates"
      ]
    },
    {
      "cell_type": "code",
      "execution_count": 21,
      "metadata": {
        "colab": {
          "base_uri": "https://localhost:8080/"
        },
        "id": "ptAZmv_eWe5m",
        "outputId": "bff72efd-7362-4a9e-e59b-6cd6afd98f74"
      },
      "outputs": [
        {
          "data": {
            "text/plain": [
              "0"
            ]
          },
          "execution_count": 21,
          "metadata": {},
          "output_type": "execute_result"
        }
      ],
      "source": [
        "#duplicates:\n",
        "df.duplicated().sum()"
      ]
    },
    {
      "cell_type": "markdown",
      "metadata": {
        "id": "bpyBV3K7sKif"
      },
      "source": [
        "#### There are no duplicates  values in the data set"
      ]
    },
    {
      "cell_type": "markdown",
      "metadata": {
        "id": "BYQkpIvasNT3"
      },
      "source": [
        "### 3.3 Check data types"
      ]
    },
    {
      "cell_type": "code",
      "execution_count": 22,
      "metadata": {
        "colab": {
          "base_uri": "https://localhost:8080/"
        },
        "id": "5LxKNQR3dcfW",
        "outputId": "6c23c9be-6dc1-428f-ba10-d63a3f94af5f"
      },
      "outputs": [
        {
          "name": "stdout",
          "output_type": "stream",
          "text": [
            "<class 'pandas.core.frame.DataFrame'>\n",
            "RangeIndex: 9215 entries, 0 to 9214\n",
            "Data columns (total 14 columns):\n",
            " #   Column                Non-Null Count  Dtype         \n",
            "---  ------                --------------  -----         \n",
            " 0   Order ID              9215 non-null   float64       \n",
            " 1   Order Date            9215 non-null   datetime64[ns]\n",
            " 2   Origin Port           9215 non-null   object        \n",
            " 3   Carrier               9215 non-null   object        \n",
            " 4   TPT                   9215 non-null   int64         \n",
            " 5   Service Level         9215 non-null   object        \n",
            " 6   Ship ahead day count  9215 non-null   int64         \n",
            " 7   Ship Late Day count   9215 non-null   int64         \n",
            " 8   Customer              9215 non-null   object        \n",
            " 9   Product ID            9215 non-null   int64         \n",
            " 10  Plant Code            9215 non-null   object        \n",
            " 11  Destination Port      9215 non-null   object        \n",
            " 12  Unit quantity         9215 non-null   int64         \n",
            " 13  Weight                9215 non-null   float64       \n",
            "dtypes: datetime64[ns](1), float64(2), int64(5), object(6)\n",
            "memory usage: 1008.0+ KB\n"
          ]
        }
      ],
      "source": [
        "# Check Null and Dtypes\n",
        "df.info()"
      ]
    },
    {
      "cell_type": "markdown",
      "metadata": {
        "id": "ChHbNRG8sRse"
      },
      "source": [
        "### 3.4 Checking the number of unique values of each column"
      ]
    },
    {
      "cell_type": "code",
      "execution_count": 23,
      "metadata": {
        "colab": {
          "base_uri": "https://localhost:8080/",
          "height": 523
        },
        "id": "4k7tFda3dnKt",
        "outputId": "dda9ad0f-4412-44ce-b6ba-165162229b85"
      },
      "outputs": [
        {
          "data": {
            "text/plain": [
              "Order ID                9215\n",
              "Order Date                 1\n",
              "Origin Port                3\n",
              "Carrier                    3\n",
              "TPT                        5\n",
              "Service Level              3\n",
              "Ship ahead day count       5\n",
              "Ship Late Day count        4\n",
              "Customer                  46\n",
              "Product ID               772\n",
              "Plant Code                 7\n",
              "Destination Port           1\n",
              "Unit quantity           2624\n",
              "Weight                  5899\n",
              "dtype: int64"
            ]
          },
          "execution_count": 23,
          "metadata": {},
          "output_type": "execute_result"
        }
      ],
      "source": [
        "#unique values:\n",
        "df.nunique()"
      ]
    },
    {
      "cell_type": "markdown",
      "metadata": {
        "id": "UE_cTfbfsXoH"
      },
      "source": [
        "### 3.5 Check statistics of data set"
      ]
    },
    {
      "cell_type": "code",
      "execution_count": 24,
      "metadata": {
        "colab": {
          "base_uri": "https://localhost:8080/",
          "height": 300
        },
        "id": "PAefbrVLduVl",
        "outputId": "72b5155c-5461-4735-8e20-281c1052b462"
      },
      "outputs": [
        {
          "data": {
            "text/html": [
              "<div>\n",
              "<style scoped>\n",
              "    .dataframe tbody tr th:only-of-type {\n",
              "        vertical-align: middle;\n",
              "    }\n",
              "\n",
              "    .dataframe tbody tr th {\n",
              "        vertical-align: top;\n",
              "    }\n",
              "\n",
              "    .dataframe thead th {\n",
              "        text-align: right;\n",
              "    }\n",
              "</style>\n",
              "<table border=\"1\" class=\"dataframe\">\n",
              "  <thead>\n",
              "    <tr style=\"text-align: right;\">\n",
              "      <th></th>\n",
              "      <th>Order ID</th>\n",
              "      <th>Order Date</th>\n",
              "      <th>TPT</th>\n",
              "      <th>Ship ahead day count</th>\n",
              "      <th>Ship Late Day count</th>\n",
              "      <th>Product ID</th>\n",
              "      <th>Unit quantity</th>\n",
              "      <th>Weight</th>\n",
              "    </tr>\n",
              "  </thead>\n",
              "  <tbody>\n",
              "    <tr>\n",
              "      <th>count</th>\n",
              "      <td>9.215000e+03</td>\n",
              "      <td>9215</td>\n",
              "      <td>9215.000000</td>\n",
              "      <td>9215.000000</td>\n",
              "      <td>9215.000000</td>\n",
              "      <td>9.215000e+03</td>\n",
              "      <td>9215.000000</td>\n",
              "      <td>9215.000000</td>\n",
              "    </tr>\n",
              "    <tr>\n",
              "      <th>mean</th>\n",
              "      <td>1.447274e+09</td>\n",
              "      <td>2013-05-26 00:00:00</td>\n",
              "      <td>1.717743</td>\n",
              "      <td>1.852306</td>\n",
              "      <td>0.039935</td>\n",
              "      <td>1.680536e+06</td>\n",
              "      <td>3202.747151</td>\n",
              "      <td>19.871688</td>\n",
              "    </tr>\n",
              "    <tr>\n",
              "      <th>min</th>\n",
              "      <td>1.447126e+09</td>\n",
              "      <td>2013-05-26 00:00:00</td>\n",
              "      <td>0.000000</td>\n",
              "      <td>0.000000</td>\n",
              "      <td>0.000000</td>\n",
              "      <td>1.613321e+06</td>\n",
              "      <td>235.000000</td>\n",
              "      <td>0.000000</td>\n",
              "    </tr>\n",
              "    <tr>\n",
              "      <th>25%</th>\n",
              "      <td>1.447197e+09</td>\n",
              "      <td>2013-05-26 00:00:00</td>\n",
              "      <td>1.000000</td>\n",
              "      <td>0.000000</td>\n",
              "      <td>0.000000</td>\n",
              "      <td>1.669702e+06</td>\n",
              "      <td>330.000000</td>\n",
              "      <td>1.407430</td>\n",
              "    </tr>\n",
              "    <tr>\n",
              "      <th>50%</th>\n",
              "      <td>1.447276e+09</td>\n",
              "      <td>2013-05-26 00:00:00</td>\n",
              "      <td>2.000000</td>\n",
              "      <td>3.000000</td>\n",
              "      <td>0.000000</td>\n",
              "      <td>1.683636e+06</td>\n",
              "      <td>477.000000</td>\n",
              "      <td>4.440000</td>\n",
              "    </tr>\n",
              "    <tr>\n",
              "      <th>75%</th>\n",
              "      <td>1.447346e+09</td>\n",
              "      <td>2013-05-26 00:00:00</td>\n",
              "      <td>2.000000</td>\n",
              "      <td>3.000000</td>\n",
              "      <td>0.000000</td>\n",
              "      <td>1.689554e+06</td>\n",
              "      <td>1275.500000</td>\n",
              "      <td>13.325673</td>\n",
              "    </tr>\n",
              "    <tr>\n",
              "      <th>max</th>\n",
              "      <td>1.447425e+09</td>\n",
              "      <td>2013-05-26 00:00:00</td>\n",
              "      <td>4.000000</td>\n",
              "      <td>6.000000</td>\n",
              "      <td>6.000000</td>\n",
              "      <td>1.702654e+06</td>\n",
              "      <td>561847.000000</td>\n",
              "      <td>2338.405126</td>\n",
              "    </tr>\n",
              "    <tr>\n",
              "      <th>std</th>\n",
              "      <td>8.381629e+04</td>\n",
              "      <td>NaN</td>\n",
              "      <td>0.630500</td>\n",
              "      <td>1.922302</td>\n",
              "      <td>0.319625</td>\n",
              "      <td>1.526593e+04</td>\n",
              "      <td>15965.622260</td>\n",
              "      <td>66.569064</td>\n",
              "    </tr>\n",
              "  </tbody>\n",
              "</table>\n",
              "</div>"
            ],
            "text/plain": [
              "           Order ID           Order Date          TPT  Ship ahead day count  \\\n",
              "count  9.215000e+03                 9215  9215.000000           9215.000000   \n",
              "mean   1.447274e+09  2013-05-26 00:00:00     1.717743              1.852306   \n",
              "min    1.447126e+09  2013-05-26 00:00:00     0.000000              0.000000   \n",
              "25%    1.447197e+09  2013-05-26 00:00:00     1.000000              0.000000   \n",
              "50%    1.447276e+09  2013-05-26 00:00:00     2.000000              3.000000   \n",
              "75%    1.447346e+09  2013-05-26 00:00:00     2.000000              3.000000   \n",
              "max    1.447425e+09  2013-05-26 00:00:00     4.000000              6.000000   \n",
              "std    8.381629e+04                  NaN     0.630500              1.922302   \n",
              "\n",
              "       Ship Late Day count    Product ID  Unit quantity       Weight  \n",
              "count          9215.000000  9.215000e+03    9215.000000  9215.000000  \n",
              "mean              0.039935  1.680536e+06    3202.747151    19.871688  \n",
              "min               0.000000  1.613321e+06     235.000000     0.000000  \n",
              "25%               0.000000  1.669702e+06     330.000000     1.407430  \n",
              "50%               0.000000  1.683636e+06     477.000000     4.440000  \n",
              "75%               0.000000  1.689554e+06    1275.500000    13.325673  \n",
              "max               6.000000  1.702654e+06  561847.000000  2338.405126  \n",
              "std               0.319625  1.526593e+04   15965.622260    66.569064  "
            ]
          },
          "execution_count": 24,
          "metadata": {},
          "output_type": "execute_result"
        }
      ],
      "source": [
        "#statistics\n",
        "df.describe()"
      ]
    },
    {
      "cell_type": "markdown",
      "metadata": {
        "id": "07W3KzELfQrH"
      },
      "source": [
        "#### **Insights**\n",
        "\n",
        "- The dataset contains 9,215 orders, all placed on the same date (2013-05-26), indicating a single-day snapshot.\n",
        "- The average transportation time (TPT) is 1.72 days, with a median of 2 days; TPT ranges from 0 to 4 days, showing variability in delivery times.\n",
        "- Orders are shipped ahead of schedule by an average of 1.85 days, with some shipped up to 6 days early; the median is 2 days ahead.\n",
        "- Ship late day count is low on average (0.04 days), but some orders are shipped up to 6 days late, indicating occasional delays.\n",
        "- Unit quantity per order varies widely, from 235 to 561,847 units, with a mean of 3,203 units and a high standard deviation, reflecting diverse order sizes.\n",
        "- Order weights also show significant variation, ranging from 0 to 2,338 kg, with an average of about 20 kg and a standard deviation of 66.6 kg, suggesting a mix of small and large shipments.\n",
        "- Product IDs are distributed within a narrow range, implying a focused set of products being ordered on this day.\n",
        "- The data highlights both early and late shipments, as well as large fluctuations in order size and weight, suggesting opportunities for optimizing scheduling and warehouse capacity utilization."
      ]
    },
    {
      "cell_type": "markdown",
      "metadata": {
        "id": "Rw1CiKSbh4Cy"
      },
      "source": [
        "### 3.6 Exploring Data"
      ]
    },
    {
      "cell_type": "code",
      "execution_count": 25,
      "metadata": {
        "colab": {
          "base_uri": "https://localhost:8080/",
          "height": 206
        },
        "id": "86xSNbWzd8ps",
        "outputId": "03c96390-5100-4557-ee3e-554dd9a54b03"
      },
      "outputs": [
        {
          "data": {
            "text/html": [
              "<div>\n",
              "<style scoped>\n",
              "    .dataframe tbody tr th:only-of-type {\n",
              "        vertical-align: middle;\n",
              "    }\n",
              "\n",
              "    .dataframe tbody tr th {\n",
              "        vertical-align: top;\n",
              "    }\n",
              "\n",
              "    .dataframe thead th {\n",
              "        text-align: right;\n",
              "    }\n",
              "</style>\n",
              "<table border=\"1\" class=\"dataframe\">\n",
              "  <thead>\n",
              "    <tr style=\"text-align: right;\">\n",
              "      <th></th>\n",
              "      <th>Order ID</th>\n",
              "      <th>Order Date</th>\n",
              "      <th>Origin Port</th>\n",
              "      <th>Carrier</th>\n",
              "      <th>TPT</th>\n",
              "      <th>Service Level</th>\n",
              "      <th>Ship ahead day count</th>\n",
              "      <th>Ship Late Day count</th>\n",
              "      <th>Customer</th>\n",
              "      <th>Product ID</th>\n",
              "      <th>Plant Code</th>\n",
              "      <th>Destination Port</th>\n",
              "      <th>Unit quantity</th>\n",
              "      <th>Weight</th>\n",
              "    </tr>\n",
              "  </thead>\n",
              "  <tbody>\n",
              "    <tr>\n",
              "      <th>0</th>\n",
              "      <td>1.447296e+09</td>\n",
              "      <td>2013-05-26</td>\n",
              "      <td>PORT09</td>\n",
              "      <td>V44_3</td>\n",
              "      <td>1</td>\n",
              "      <td>CRF</td>\n",
              "      <td>3</td>\n",
              "      <td>0</td>\n",
              "      <td>V55555_53</td>\n",
              "      <td>1700106</td>\n",
              "      <td>PLANT16</td>\n",
              "      <td>PORT09</td>\n",
              "      <td>808</td>\n",
              "      <td>14.30</td>\n",
              "    </tr>\n",
              "    <tr>\n",
              "      <th>1</th>\n",
              "      <td>1.447158e+09</td>\n",
              "      <td>2013-05-26</td>\n",
              "      <td>PORT09</td>\n",
              "      <td>V44_3</td>\n",
              "      <td>1</td>\n",
              "      <td>CRF</td>\n",
              "      <td>3</td>\n",
              "      <td>0</td>\n",
              "      <td>V55555_53</td>\n",
              "      <td>1700106</td>\n",
              "      <td>PLANT16</td>\n",
              "      <td>PORT09</td>\n",
              "      <td>3188</td>\n",
              "      <td>87.94</td>\n",
              "    </tr>\n",
              "    <tr>\n",
              "      <th>2</th>\n",
              "      <td>1.447139e+09</td>\n",
              "      <td>2013-05-26</td>\n",
              "      <td>PORT09</td>\n",
              "      <td>V44_3</td>\n",
              "      <td>1</td>\n",
              "      <td>CRF</td>\n",
              "      <td>3</td>\n",
              "      <td>0</td>\n",
              "      <td>V55555_53</td>\n",
              "      <td>1700106</td>\n",
              "      <td>PLANT16</td>\n",
              "      <td>PORT09</td>\n",
              "      <td>2331</td>\n",
              "      <td>61.20</td>\n",
              "    </tr>\n",
              "    <tr>\n",
              "      <th>3</th>\n",
              "      <td>1.447364e+09</td>\n",
              "      <td>2013-05-26</td>\n",
              "      <td>PORT09</td>\n",
              "      <td>V44_3</td>\n",
              "      <td>1</td>\n",
              "      <td>CRF</td>\n",
              "      <td>3</td>\n",
              "      <td>0</td>\n",
              "      <td>V55555_53</td>\n",
              "      <td>1700106</td>\n",
              "      <td>PLANT16</td>\n",
              "      <td>PORT09</td>\n",
              "      <td>847</td>\n",
              "      <td>16.16</td>\n",
              "    </tr>\n",
              "    <tr>\n",
              "      <th>4</th>\n",
              "      <td>1.447364e+09</td>\n",
              "      <td>2013-05-26</td>\n",
              "      <td>PORT09</td>\n",
              "      <td>V44_3</td>\n",
              "      <td>1</td>\n",
              "      <td>CRF</td>\n",
              "      <td>3</td>\n",
              "      <td>0</td>\n",
              "      <td>V55555_53</td>\n",
              "      <td>1700106</td>\n",
              "      <td>PLANT16</td>\n",
              "      <td>PORT09</td>\n",
              "      <td>2163</td>\n",
              "      <td>52.34</td>\n",
              "    </tr>\n",
              "  </tbody>\n",
              "</table>\n",
              "</div>"
            ],
            "text/plain": [
              "       Order ID Order Date Origin Port Carrier  TPT Service Level  \\\n",
              "0  1.447296e+09 2013-05-26      PORT09   V44_3    1           CRF   \n",
              "1  1.447158e+09 2013-05-26      PORT09   V44_3    1           CRF   \n",
              "2  1.447139e+09 2013-05-26      PORT09   V44_3    1           CRF   \n",
              "3  1.447364e+09 2013-05-26      PORT09   V44_3    1           CRF   \n",
              "4  1.447364e+09 2013-05-26      PORT09   V44_3    1           CRF   \n",
              "\n",
              "   Ship ahead day count  Ship Late Day count   Customer  Product ID  \\\n",
              "0                     3                    0  V55555_53     1700106   \n",
              "1                     3                    0  V55555_53     1700106   \n",
              "2                     3                    0  V55555_53     1700106   \n",
              "3                     3                    0  V55555_53     1700106   \n",
              "4                     3                    0  V55555_53     1700106   \n",
              "\n",
              "  Plant Code Destination Port  Unit quantity  Weight  \n",
              "0    PLANT16           PORT09            808   14.30  \n",
              "1    PLANT16           PORT09           3188   87.94  \n",
              "2    PLANT16           PORT09           2331   61.20  \n",
              "3    PLANT16           PORT09            847   16.16  \n",
              "4    PLANT16           PORT09           2163   52.34  "
            ]
          },
          "execution_count": 25,
          "metadata": {},
          "output_type": "execute_result"
        }
      ],
      "source": [
        "df.head()"
      ]
    },
    {
      "cell_type": "code",
      "execution_count": 26,
      "metadata": {
        "colab": {
          "base_uri": "https://localhost:8080/"
        },
        "id": "N9DwGLX8h98Q",
        "outputId": "112065c7-48d4-494e-89f1-356c8e0fd071"
      },
      "outputs": [
        {
          "name": "stdout",
          "output_type": "stream",
          "text": [
            "Categories in 'Origin Port' variable:      ['PORT09' 'PORT04' 'PORT05']\n",
            "Categories in 'Origin Port' variable:   ['PORT09' 'PORT04' 'PORT05']\n",
            "Categories in 'Service Level' variable: ['CRF' 'DTP' 'DTD']\n",
            "Categories in 'Customer' variable:      ['V55555_53' 'V555555555555555_29' 'V5555555_30' 'V55555_2'\n",
            " 'V555555555555_31' 'V55555555_32' 'V5555555_12' 'V55555_4' 'V555555_6'\n",
            " 'V5555555555_1' 'V5555_33' 'V555555_24' 'V555555555_3' 'V55555555_5'\n",
            " 'V55555555_7' 'V55555555555_28' 'V55555555_0' 'V5555555_22' 'V555555_34'\n",
            " 'V5555_25' 'V55_13' 'V555555555_35' 'V5555_36' 'V55_37' 'V5555_38'\n",
            " 'V55_39' 'V555555555_14' 'V55555_26' 'V555_15' 'V555555555_27'\n",
            " 'V555555_40' 'V555_41' 'V555555555555555555_42' 'V55555555555555_8'\n",
            " 'V55555555_9' 'V55555_10' 'V555555_11' 'V5555555555555_16'\n",
            " 'V555555555555555555_17' 'V555555555555555_44' 'V555555555555555555_45'\n",
            " 'V555555555555555_23' 'V555555555555555555_46' 'V55_47' 'V5555555_19'\n",
            " 'V5555_20']\n",
            "Categories in 'Plant Code' variable:      ['PLANT16' 'PLANT03' 'PLANT08' 'PLANT04' 'PLANT12' 'PLANT09' 'PLANT13']\n",
            "Categories in 'Destination Port' variable:      ['PORT09']\n"
          ]
        }
      ],
      "source": [
        "print(\"Categories in 'Origin Port' variable:     \",end=\" \" )\n",
        "print(df['Origin Port'].unique())\n",
        "\n",
        "print(\"Categories in 'Origin Port' variable:  \",end=\" \")\n",
        "print(df['Origin Port'].unique())\n",
        "\n",
        "print(\"Categories in 'Service Level' variable:\",end=\" \" )\n",
        "print(df['Service Level'].unique())\n",
        "\n",
        "print(\"Categories in 'Customer' variable:     \",end=\" \" )\n",
        "print(df['Customer'].unique())\n",
        "\n",
        "print(\"Categories in 'Plant Code' variable:     \",end=\" \" )\n",
        "print(df['Plant Code'].unique())\n",
        "\n",
        "print(\"Categories in 'Destination Port' variable:     \",end=\" \" )\n",
        "print(df['Destination Port'].unique())\n",
        "\n"
      ]
    },
    {
      "cell_type": "code",
      "execution_count": 27,
      "metadata": {
        "colab": {
          "base_uri": "https://localhost:8080/"
        },
        "id": "vRJNZBkojKDE",
        "outputId": "e0d1608c-b45e-4136-8681-847ad7068c69"
      },
      "outputs": [
        {
          "name": "stdout",
          "output_type": "stream",
          "text": [
            "We have 8 numerical features : ['Order ID', 'Order Date', 'TPT', 'Ship ahead day count', 'Ship Late Day count', 'Product ID', 'Unit quantity', 'Weight']\n",
            "\n",
            "We have 6 categorical features : ['Origin Port', 'Carrier', 'Service Level', 'Customer', 'Plant Code', 'Destination Port']\n"
          ]
        }
      ],
      "source": [
        "#define numerical and categorical features\n",
        "numeric_features = [feature for feature in df.columns if df[feature].dtype != 'O']\n",
        "categorical_features = [feature for feature in df.columns if df[feature].dtype == 'O']\n",
        "\n",
        "#print columns\n",
        "print('We have {} numerical features : {}'.format(len(numeric_features), numeric_features))\n",
        "print('\\nWe have {} categorical features : {}'.format(len(categorical_features), categorical_features))"
      ]
    },
    {
      "cell_type": "code",
      "execution_count": 28,
      "metadata": {
        "colab": {
          "base_uri": "https://localhost:8080/"
        },
        "collapsed": true,
        "id": "yoG7vkdFjKwg",
        "outputId": "ba10a482-000f-4c9a-d825-394029bd1439"
      },
      "outputs": [
        {
          "name": "stdout",
          "output_type": "stream",
          "text": [
            "\n",
            "Origin Port value counts:\n",
            " Origin Port\n",
            "PORT04    9041\n",
            "PORT09     173\n",
            "PORT05       1\n",
            "Name: count, dtype: int64\n",
            "\n",
            "Carrier value counts:\n",
            " Carrier\n",
            "V444_0    6264\n",
            "V444_1    2097\n",
            "V44_3      854\n",
            "Name: count, dtype: int64\n",
            "\n",
            "Service Level value counts:\n",
            " Service Level\n",
            "DTP    6218\n",
            "DTD    2143\n",
            "CRF     854\n",
            "Name: count, dtype: int64\n",
            "\n",
            "Customer value counts:\n",
            " Customer\n",
            "V55555555555555_8         976\n",
            "V555555_6                 762\n",
            "V55555_2                  758\n",
            "V5555555_22               693\n",
            "V5555_33                  691\n",
            "V55555555_7               618\n",
            "V55555555_5               531\n",
            "V555555555_27             521\n",
            "V555555555555555_29       385\n",
            "V55555_4                  360\n",
            "V555555555_14             351\n",
            "V55555_26                 340\n",
            "V55555555_32              241\n",
            "V55555555555_28           203\n",
            "V555555555555555555_45    198\n",
            "V55_13                    178\n",
            "V5555555_30               163\n",
            "V555555555_3              141\n",
            "V55555_53                 139\n",
            "V555555_24                125\n",
            "V5555555_19               118\n",
            "V555555555555555555_17    117\n",
            "V555_15                   110\n",
            "V55555555_0               102\n",
            "V5555555_12                89\n",
            "V555555555555_31           45\n",
            "V5555_20                   33\n",
            "V555555555555555555_42     30\n",
            "V5555_36                   29\n",
            "V5555_25                   25\n",
            "V5555555555_1              22\n",
            "V55555555_9                17\n",
            "V55555_10                  17\n",
            "V555555555_35              14\n",
            "V5555555555555_16          12\n",
            "V555_41                    11\n",
            "V555555_11                 10\n",
            "V555555_34                 10\n",
            "V555555555555555_44         9\n",
            "V5555_38                    6\n",
            "V555555_40                  5\n",
            "V555555555555555555_46      3\n",
            "V55_37                      3\n",
            "V55_47                      2\n",
            "V555555555555555_23         1\n",
            "V55_39                      1\n",
            "Name: count, dtype: int64\n",
            "\n",
            "Plant Code value counts:\n",
            " Plant Code\n",
            "PLANT03    8541\n",
            "PLANT12     300\n",
            "PLANT16     173\n",
            "PLANT08     102\n",
            "PLANT13      86\n",
            "PLANT09      12\n",
            "PLANT04       1\n",
            "Name: count, dtype: int64\n",
            "\n",
            "Destination Port value counts:\n",
            " Destination Port\n",
            "PORT09    9215\n",
            "Name: count, dtype: int64\n"
          ]
        }
      ],
      "source": [
        "#Value counts per categorical column:\n",
        "\n",
        "categorical_cols = ['Origin Port', 'Carrier', 'Service Level', 'Customer', 'Plant Code', 'Destination Port']\n",
        "\n",
        "for col in categorical_cols:\n",
        "    print(f\"\\n{col} value counts:\\n\", df[col].value_counts())\n"
      ]
    },
    {
      "cell_type": "markdown",
      "metadata": {
        "id": "6Sr_ezZEmGF1"
      },
      "source": [
        "#### **Insights**\n",
        "\n",
        "- **Origin Port:** The vast majority of shipments (9041 out of 9215) originate from PORT04, making it the dominant origin port. PORT09 and PORT05 are used very rarely.\n",
        "- **Destination Port:** All shipments are sent to PORT09, indicating a single-destination network for this dataset.\n",
        "- **Carrier:** Carrier V444_0 handles most shipments (6264), followed by V444_1 (2097) and V44_3 (854), showing a strong preference for one main carrier.\n",
        "- **Service Level:** The DTP service level is most common (6218 orders), with DTD (2143) and CRF (854) used less frequently, suggesting a standard or preferred shipping service.\n",
        "- **Customer:** The customer base is highly concentrated, with the top few customers (e.g., V55555555555555_8, V555555_6, V55555_2) accounting for a significant share of orders, while many customers have very few orders.\n",
        "- **Plant Code:** Most orders are fulfilled from PLANT03 (8541), with a small number coming from other plants, reflecting a centralized fulfillment model.\n",
        "- **Overall:** The data shows a highly centralized logistics operation, with most shipments routed through a single origin port, plant, carrier, and destination port, and a small number of customers and service levels dominating the order volume.\n"
      ]
    },
    {
      "cell_type": "markdown",
      "metadata": {
        "id": "ShbNGdB0nMKL"
      },
      "source": [
        "## 4) Exploring Data (Visualisation)"
      ]
    },
    {
      "cell_type": "markdown",
      "metadata": {
        "id": "DMZFIOAstSab"
      },
      "source": [
        "### 4.1 Basic Plots"
      ]
    },
    {
      "cell_type": "code",
      "execution_count": 29,
      "metadata": {
        "colab": {
          "base_uri": "https://localhost:8080/",
          "height": 553
        },
        "id": "or01cuzAkmSU",
        "outputId": "f01c145f-1cf9-417f-8cab-06b77f45a35f"
      },
      "outputs": [
        {
          "name": "stdout",
          "output_type": "stream",
          "text": [
            "Unexpected exception formatting exception. Falling back to standard exception\n"
          ]
        },
        {
          "name": "stderr",
          "output_type": "stream",
          "text": [
            "Traceback (most recent call last):\n",
            "  File \"c:\\Users\\VINESH\\anaconda3\\envs\\rasaenv\\lib\\site-packages\\IPython\\core\\interactiveshell.py\", line 3508, in run_code\n",
            "    exec(code_obj, self.user_global_ns, self.user_ns)\n",
            "  File \"C:\\Users\\VINESH\\AppData\\Local\\Temp\\ipykernel_24304\\2852891132.py\", line 20, in <module>\n",
            "    fig, axes = plt.subplots(1, 3, figsize=(18, 6))\n",
            "  File \"c:\\Users\\VINESH\\anaconda3\\envs\\rasaenv\\lib\\site-packages\\matplotlib\\pyplot.py\", line 1453, in subplots\n",
            "    --------\n",
            "  File \"c:\\Users\\VINESH\\anaconda3\\envs\\rasaenv\\lib\\site-packages\\matplotlib\\pyplot.py\", line 806, in figure\n",
            "    _pylab_helpers.Gcf.set_active(num.canvas.manager)\n",
            "  File \"c:\\Users\\VINESH\\anaconda3\\envs\\rasaenv\\lib\\site-packages\\matplotlib\\pyplot.py\", line 324, in new_figure_manager\n",
            "    # If the manager explicitly overrides pyplot_show, use it even if a global\n",
            "  File \"c:\\Users\\VINESH\\anaconda3\\envs\\rasaenv\\lib\\site-packages\\matplotlib\\pyplot.py\", line 314, in _warn_if_gui_out_of_main_thread\n",
            "    if matplotlib.is_interactive():\n",
            "  File \"c:\\Users\\VINESH\\anaconda3\\envs\\rasaenv\\lib\\site-packages\\matplotlib\\pyplot.py\", line 217, in _get_backend_mod\n",
            "    another interactive backend has started.  Switching to and from\n",
            "  File \"c:\\Users\\VINESH\\anaconda3\\envs\\rasaenv\\lib\\site-packages\\matplotlib\\pyplot.py\", line 282, in switch_backend\n",
            "    newbackend, required_framework, current_framework))\n",
            "  File \"c:\\Users\\VINESH\\anaconda3\\envs\\rasaenv\\lib\\site-packages\\matplotlib\\pyplot.py\", line 283, in backend_mod\n",
            "  File \"c:\\Users\\VINESH\\anaconda3\\envs\\rasaenv\\lib\\importlib\\__init__.py\", line 127, in import_module\n",
            "    return _bootstrap._gcd_import(name[level:], package, level)\n",
            "  File \"<frozen importlib._bootstrap>\", line 1014, in _gcd_import\n",
            "  File \"<frozen importlib._bootstrap>\", line 991, in _find_and_load\n",
            "  File \"<frozen importlib._bootstrap>\", line 961, in _find_and_load_unlocked\n",
            "  File \"<frozen importlib._bootstrap>\", line 219, in _call_with_frames_removed\n",
            "  File \"<frozen importlib._bootstrap>\", line 1014, in _gcd_import\n",
            "  File \"<frozen importlib._bootstrap>\", line 991, in _find_and_load\n",
            "  File \"<frozen importlib._bootstrap>\", line 975, in _find_and_load_unlocked\n",
            "  File \"<frozen importlib._bootstrap>\", line 671, in _load_unlocked\n",
            "  File \"<frozen importlib._bootstrap_external>\", line 843, in exec_module\n",
            "  File \"<frozen importlib._bootstrap>\", line 219, in _call_with_frames_removed\n",
            "  File \"c:\\Users\\VINESH\\anaconda3\\envs\\rasaenv\\lib\\site-packages\\matplotlib_inline\\__init__.py\", line 1, in <module>\n",
            "    from . import backend_inline, config  # noqa\n",
            "  File \"c:\\Users\\VINESH\\anaconda3\\envs\\rasaenv\\lib\\site-packages\\matplotlib_inline\\backend_inline.py\", line 8, in <module>\n",
            "    from matplotlib.backends import backend_agg\n",
            "  File \"c:\\Users\\VINESH\\anaconda3\\envs\\rasaenv\\lib\\site-packages\\matplotlib\\backends\\backend_agg.py\", line 40, in <module>\n",
            "    from matplotlib.backends._backend_agg import RendererAgg as _RendererAgg\n",
            "ImportError: DLL load failed while importing _backend_agg: The specified module could not be found.\n",
            "\n",
            "During handling of the above exception, another exception occurred:\n",
            "\n",
            "Traceback (most recent call last):\n",
            "  File \"c:\\Users\\VINESH\\anaconda3\\envs\\rasaenv\\lib\\site-packages\\IPython\\core\\interactiveshell.py\", line 2105, in showtraceback\n",
            "    stb = self.InteractiveTB.structured_traceback(\n",
            "  File \"c:\\Users\\VINESH\\anaconda3\\envs\\rasaenv\\lib\\site-packages\\IPython\\core\\ultratb.py\", line 1396, in structured_traceback\n",
            "    return FormattedTB.structured_traceback(\n",
            "  File \"c:\\Users\\VINESH\\anaconda3\\envs\\rasaenv\\lib\\site-packages\\IPython\\core\\ultratb.py\", line 1287, in structured_traceback\n",
            "    return VerboseTB.structured_traceback(\n",
            "  File \"c:\\Users\\VINESH\\anaconda3\\envs\\rasaenv\\lib\\site-packages\\IPython\\core\\ultratb.py\", line 1140, in structured_traceback\n",
            "    formatted_exception = self.format_exception_as_a_whole(etype, evalue, etb, number_of_lines_of_context,\n",
            "  File \"c:\\Users\\VINESH\\anaconda3\\envs\\rasaenv\\lib\\site-packages\\IPython\\core\\ultratb.py\", line 1055, in format_exception_as_a_whole\n",
            "    frames.append(self.format_record(record))\n",
            "  File \"c:\\Users\\VINESH\\anaconda3\\envs\\rasaenv\\lib\\site-packages\\IPython\\core\\ultratb.py\", line 955, in format_record\n",
            "    frame_info.lines, Colors, self.has_colors, lvals\n",
            "  File \"c:\\Users\\VINESH\\anaconda3\\envs\\rasaenv\\lib\\site-packages\\IPython\\core\\ultratb.py\", line 778, in lines\n",
            "    return self._sd.lines\n",
            "  File \"c:\\Users\\VINESH\\anaconda3\\envs\\rasaenv\\lib\\site-packages\\stack_data\\utils.py\", line 145, in cached_property_wrapper\n",
            "    value = obj.__dict__[self.func.__name__] = self.func(obj)\n",
            "  File \"c:\\Users\\VINESH\\anaconda3\\envs\\rasaenv\\lib\\site-packages\\stack_data\\core.py\", line 698, in lines\n",
            "    pieces = self.included_pieces\n",
            "  File \"c:\\Users\\VINESH\\anaconda3\\envs\\rasaenv\\lib\\site-packages\\stack_data\\utils.py\", line 145, in cached_property_wrapper\n",
            "    value = obj.__dict__[self.func.__name__] = self.func(obj)\n",
            "  File \"c:\\Users\\VINESH\\anaconda3\\envs\\rasaenv\\lib\\site-packages\\stack_data\\core.py\", line 649, in included_pieces\n",
            "    pos = scope_pieces.index(self.executing_piece)\n",
            "  File \"c:\\Users\\VINESH\\anaconda3\\envs\\rasaenv\\lib\\site-packages\\stack_data\\utils.py\", line 145, in cached_property_wrapper\n",
            "    value = obj.__dict__[self.func.__name__] = self.func(obj)\n",
            "  File \"c:\\Users\\VINESH\\anaconda3\\envs\\rasaenv\\lib\\site-packages\\stack_data\\core.py\", line 628, in executing_piece\n",
            "    return only(\n",
            "  File \"c:\\Users\\VINESH\\anaconda3\\envs\\rasaenv\\lib\\site-packages\\executing\\executing.py\", line 164, in only\n",
            "    raise NotOneValueFound('Expected one value, found 0')\n",
            "executing.executing.NotOneValueFound: Expected one value, found 0\n"
          ]
        }
      ],
      "source": [
        "# # Orders per Origin Port:\n",
        "# sns.countplot(data=df, x='Origin Port')\n",
        "# plt.title('Number of Orders per Origin Port')\n",
        "# plt.xticks(rotation=45)\n",
        "# plt.show()\n",
        "\n",
        "# #Top 10 Customers by Order Count:\n",
        "# df['Customer'].value_counts().head(10).plot(kind='bar')\n",
        "# plt.title('Top 10 Customers by Order Volume')\n",
        "# plt.xlabel('Customer')\n",
        "# plt.ylabel('Order Count')\n",
        "# plt.show()\n",
        "\n",
        "# # Service Level Distribution:\n",
        "# sns.countplot(data=df, x='Service Level')\n",
        "# plt.title('Distribution of Service Levels')\n",
        "# plt.show()\n",
        "\n",
        "# Create a figure with 3 subplots arranged horizontally\n",
        "fig, axes = plt.subplots(1, 3, figsize=(18, 6))\n",
        "\n",
        "# Plot 1: Orders per Origin Port\n",
        "sns.countplot(data=df, x='Origin Port', ax=axes[0])\n",
        "axes[0].set_title('Number of Orders per Origin Port')\n",
        "axes[0].tick_params(axis='x', rotation=45)\n",
        "\n",
        "# Plot 2: Top 10 Customers by Order Count\n",
        "df['Customer'].value_counts().head(10).plot(kind='bar', ax=axes[1])\n",
        "axes[1].set_title('Top 10 Customers by Order Volume')\n",
        "axes[1].set_xlabel('Customer')\n",
        "axes[1].set_ylabel('Order Count')\n",
        "\n",
        "# Plot 3: Service Level Distribution\n",
        "sns.countplot(data=df, x='Service Level', ax=axes[2])\n",
        "axes[2].set_title('Distribution of Service Levels')\n",
        "\n",
        "plt.tight_layout()\n",
        "plt.show()\n"
      ]
    },
    {
      "cell_type": "markdown",
      "metadata": {
        "id": "0oRffRjGtbn3"
      },
      "source": [
        "### 4.2 Unit Quantity vs Weight"
      ]
    },
    {
      "cell_type": "code",
      "execution_count": 31,
      "metadata": {
        "colab": {
          "base_uri": "https://localhost:8080/",
          "height": 472
        },
        "id": "XP2m6s6gmNzT",
        "outputId": "11605115-72cb-4a53-ce93-ea6c8b7d2531"
      },
      "outputs": [
        {
          "name": "stdout",
          "output_type": "stream",
          "text": [
            "Unexpected exception formatting exception. Falling back to standard exception\n"
          ]
        },
        {
          "name": "stderr",
          "output_type": "stream",
          "text": [
            "Traceback (most recent call last):\n",
            "  File \"c:\\Users\\VINESH\\anaconda3\\envs\\rasaenv\\lib\\site-packages\\IPython\\core\\interactiveshell.py\", line 3508, in run_code\n",
            "    exec(code_obj, self.user_global_ns, self.user_ns)\n",
            "  File \"C:\\Users\\VINESH\\AppData\\Local\\Temp\\ipykernel_24304\\499624702.py\", line 3, in <module>\n",
            "    sns.scatterplot(data=df, x='Unit quantity', y='Weight')\n",
            "  File \"c:\\Users\\VINESH\\anaconda3\\envs\\rasaenv\\lib\\site-packages\\seaborn\\relational.py\", line 626, in scatterplot\n",
            "    ax = plt.gca()\n",
            "  File \"c:\\Users\\VINESH\\anaconda3\\envs\\rasaenv\\lib\\site-packages\\matplotlib\\pyplot.py\", line 2272, in gca\n",
            "    else:\n",
            "  File \"c:\\Users\\VINESH\\anaconda3\\envs\\rasaenv\\lib\\site-packages\\matplotlib\\pyplot.py\", line 865, in gcf\n",
            "  File \"c:\\Users\\VINESH\\anaconda3\\envs\\rasaenv\\lib\\site-packages\\matplotlib\\pyplot.py\", line 806, in figure\n",
            "    _pylab_helpers.Gcf.set_active(num.canvas.manager)\n",
            "  File \"c:\\Users\\VINESH\\anaconda3\\envs\\rasaenv\\lib\\site-packages\\matplotlib\\pyplot.py\", line 324, in new_figure_manager\n",
            "    # If the manager explicitly overrides pyplot_show, use it even if a global\n",
            "  File \"c:\\Users\\VINESH\\anaconda3\\envs\\rasaenv\\lib\\site-packages\\matplotlib\\pyplot.py\", line 314, in _warn_if_gui_out_of_main_thread\n",
            "    if matplotlib.is_interactive():\n",
            "  File \"c:\\Users\\VINESH\\anaconda3\\envs\\rasaenv\\lib\\site-packages\\matplotlib\\pyplot.py\", line 217, in _get_backend_mod\n",
            "    another interactive backend has started.  Switching to and from\n",
            "  File \"c:\\Users\\VINESH\\anaconda3\\envs\\rasaenv\\lib\\site-packages\\matplotlib\\pyplot.py\", line 282, in switch_backend\n",
            "    newbackend, required_framework, current_framework))\n",
            "  File \"c:\\Users\\VINESH\\anaconda3\\envs\\rasaenv\\lib\\site-packages\\matplotlib\\pyplot.py\", line 283, in backend_mod\n",
            "  File \"c:\\Users\\VINESH\\anaconda3\\envs\\rasaenv\\lib\\importlib\\__init__.py\", line 127, in import_module\n",
            "    return _bootstrap._gcd_import(name[level:], package, level)\n",
            "  File \"<frozen importlib._bootstrap>\", line 1014, in _gcd_import\n",
            "  File \"<frozen importlib._bootstrap>\", line 991, in _find_and_load\n",
            "  File \"<frozen importlib._bootstrap>\", line 961, in _find_and_load_unlocked\n",
            "  File \"<frozen importlib._bootstrap>\", line 219, in _call_with_frames_removed\n",
            "  File \"<frozen importlib._bootstrap>\", line 1014, in _gcd_import\n",
            "  File \"<frozen importlib._bootstrap>\", line 991, in _find_and_load\n",
            "  File \"<frozen importlib._bootstrap>\", line 975, in _find_and_load_unlocked\n",
            "  File \"<frozen importlib._bootstrap>\", line 671, in _load_unlocked\n",
            "  File \"<frozen importlib._bootstrap_external>\", line 843, in exec_module\n",
            "  File \"<frozen importlib._bootstrap>\", line 219, in _call_with_frames_removed\n",
            "  File \"c:\\Users\\VINESH\\anaconda3\\envs\\rasaenv\\lib\\site-packages\\matplotlib_inline\\__init__.py\", line 1, in <module>\n",
            "    from . import backend_inline, config  # noqa\n",
            "  File \"c:\\Users\\VINESH\\anaconda3\\envs\\rasaenv\\lib\\site-packages\\matplotlib_inline\\backend_inline.py\", line 8, in <module>\n",
            "    from matplotlib.backends import backend_agg\n",
            "  File \"c:\\Users\\VINESH\\anaconda3\\envs\\rasaenv\\lib\\site-packages\\matplotlib\\backends\\backend_agg.py\", line 40, in <module>\n",
            "    from matplotlib.backends._backend_agg import RendererAgg as _RendererAgg\n",
            "ImportError: DLL load failed while importing _backend_agg: The specified module could not be found.\n",
            "\n",
            "During handling of the above exception, another exception occurred:\n",
            "\n",
            "Traceback (most recent call last):\n",
            "  File \"c:\\Users\\VINESH\\anaconda3\\envs\\rasaenv\\lib\\site-packages\\IPython\\core\\interactiveshell.py\", line 2105, in showtraceback\n",
            "    stb = self.InteractiveTB.structured_traceback(\n",
            "  File \"c:\\Users\\VINESH\\anaconda3\\envs\\rasaenv\\lib\\site-packages\\IPython\\core\\ultratb.py\", line 1396, in structured_traceback\n",
            "    return FormattedTB.structured_traceback(\n",
            "  File \"c:\\Users\\VINESH\\anaconda3\\envs\\rasaenv\\lib\\site-packages\\IPython\\core\\ultratb.py\", line 1287, in structured_traceback\n",
            "    return VerboseTB.structured_traceback(\n",
            "  File \"c:\\Users\\VINESH\\anaconda3\\envs\\rasaenv\\lib\\site-packages\\IPython\\core\\ultratb.py\", line 1140, in structured_traceback\n",
            "    formatted_exception = self.format_exception_as_a_whole(etype, evalue, etb, number_of_lines_of_context,\n",
            "  File \"c:\\Users\\VINESH\\anaconda3\\envs\\rasaenv\\lib\\site-packages\\IPython\\core\\ultratb.py\", line 1055, in format_exception_as_a_whole\n",
            "    frames.append(self.format_record(record))\n",
            "  File \"c:\\Users\\VINESH\\anaconda3\\envs\\rasaenv\\lib\\site-packages\\IPython\\core\\ultratb.py\", line 955, in format_record\n",
            "    frame_info.lines, Colors, self.has_colors, lvals\n",
            "  File \"c:\\Users\\VINESH\\anaconda3\\envs\\rasaenv\\lib\\site-packages\\IPython\\core\\ultratb.py\", line 778, in lines\n",
            "    return self._sd.lines\n",
            "  File \"c:\\Users\\VINESH\\anaconda3\\envs\\rasaenv\\lib\\site-packages\\stack_data\\utils.py\", line 145, in cached_property_wrapper\n",
            "    value = obj.__dict__[self.func.__name__] = self.func(obj)\n",
            "  File \"c:\\Users\\VINESH\\anaconda3\\envs\\rasaenv\\lib\\site-packages\\stack_data\\core.py\", line 698, in lines\n",
            "    pieces = self.included_pieces\n",
            "  File \"c:\\Users\\VINESH\\anaconda3\\envs\\rasaenv\\lib\\site-packages\\stack_data\\utils.py\", line 145, in cached_property_wrapper\n",
            "    value = obj.__dict__[self.func.__name__] = self.func(obj)\n",
            "  File \"c:\\Users\\VINESH\\anaconda3\\envs\\rasaenv\\lib\\site-packages\\stack_data\\core.py\", line 649, in included_pieces\n",
            "    pos = scope_pieces.index(self.executing_piece)\n",
            "  File \"c:\\Users\\VINESH\\anaconda3\\envs\\rasaenv\\lib\\site-packages\\stack_data\\utils.py\", line 145, in cached_property_wrapper\n",
            "    value = obj.__dict__[self.func.__name__] = self.func(obj)\n",
            "  File \"c:\\Users\\VINESH\\anaconda3\\envs\\rasaenv\\lib\\site-packages\\stack_data\\core.py\", line 628, in executing_piece\n",
            "    return only(\n",
            "  File \"c:\\Users\\VINESH\\anaconda3\\envs\\rasaenv\\lib\\site-packages\\executing\\executing.py\", line 164, in only\n",
            "    raise NotOneValueFound('Expected one value, found 0')\n",
            "executing.executing.NotOneValueFound: Expected one value, found 0\n"
          ]
        }
      ],
      "source": [
        "#correlation and outliers\n",
        "\n",
        "sns.scatterplot(data=df, x='Unit quantity', y='Weight')\n",
        "plt.title(\"Unit Quantity vs Weight\")\n",
        "plt.xlabel(\"Units Ordered\")\n",
        "plt.ylabel(\"Weight (kg)\")\n",
        "plt.show()\n"
      ]
    },
    {
      "cell_type": "markdown",
      "metadata": {
        "id": "V4B6igxwkwhW"
      },
      "source": [
        "#### **Insights**\n",
        "\n",
        "Most orders are small to medium in size and weight, but there's a wide variation in weight for the same unit quantity, indicating diverse product densities. A few large-volume orders are relatively lightweight, suggesting potential for shipping cost optimization through mode or carrier selection. Outliers reveal heavy low-quantity items and light high-quantity items, both important for route planning and cost modeling."
      ]
    },
    {
      "cell_type": "markdown",
      "metadata": {
        "id": "I-FjhoHxtyKA"
      },
      "source": [
        "### 4.3 Shipment Timeliness"
      ]
    },
    {
      "cell_type": "markdown",
      "metadata": {
        "id": "qBZyDKywuAJD"
      },
      "source": [
        "#### 4.3.1  Distribution of TPT (transport time)"
      ]
    },
    {
      "cell_type": "code",
      "execution_count": null,
      "metadata": {
        "colab": {
          "base_uri": "https://localhost:8080/",
          "height": 472
        },
        "id": "U2v_8mfynT9j",
        "outputId": "7cad24dd-45c3-4400-90e5-7878eadde9d5"
      },
      "outputs": [
        {
          "data": {
            "image/png": "[encoded data removed]",
            "text/plain": [
              "<Figure size 640x480 with 1 Axes>"
            ]
          },
          "metadata": {},
          "output_type": "display_data"
        }
      ],
      "source": [
        "#Distribution of TPT (transport time):\n",
        "\n",
        "sns.histplot(df['TPT'], bins=10, kde=True)\n",
        "plt.title('Distribution of Transportation Days (TPT)')\n",
        "plt.xlabel('Days')\n",
        "plt.show()"
      ]
    },
    {
      "cell_type": "markdown",
      "metadata": {
        "id": "IUywBsyQkA-w"
      },
      "source": [
        "##### **Insights**\n",
        "\n",
        "- TPT (Transportation Days) = number of days it takes to deliver an order.\n",
        "- Most shipments are completed within 2 days, with some in 1 day.\n",
        "- There's a sharp peak at 2 days, suggesting it's the standard delivery time.\n",
        "- A few shipments are faster (1 or 0 days) or slightly slower (up to 4 days), but they are outliers."
      ]
    },
    {
      "cell_type": "markdown",
      "metadata": {
        "id": "UMRdhVyRuLRC"
      },
      "source": [
        "#### 4.3.2 Early vs Late Shipping"
      ]
    },
    {
      "cell_type": "code",
      "execution_count": null,
      "metadata": {
        "colab": {
          "base_uri": "https://localhost:8080/",
          "height": 472
        },
        "id": "xO8m6V0pnXqZ",
        "outputId": "ba1b175f-697c-4003-f2c5-f06e04c72a34"
      },
      "outputs": [
        {
          "data": {
            "image/png": "[encoded data removed]",
            "text/plain": [
              "<Figure size 640x480 with 1 Axes>"
            ]
          },
          "metadata": {},
          "output_type": "display_data"
        }
      ],
      "source": [
        "#Early vs Late Shipping:\n",
        "sns.histplot(df['Ship ahead day count'], bins=10, color='green', label='Early', kde=True)\n",
        "sns.histplot(df['Ship Late Day count'], bins=10, color='red', label='Late', kde=True)\n",
        "plt.title('Shipping Early vs Late Days')\n",
        "plt.legend()\n",
        "plt.show()\n"
      ]
    },
    {
      "cell_type": "markdown",
      "metadata": {
        "id": "dLDdShR1iqgc"
      },
      "source": [
        "Green bars (Early) = how many days ahead of schedule orders are shipped.  \n",
        "Red bars (Late) = how many days orders are delayed past the planned date.\n",
        "\n",
        "##### **Insights**\n",
        "\n",
        "- Most orders are shipped ahead of schedule (especially 3 days early).\n",
        "- Very few are shipped late — and even those are mostly just 1 day late.\n",
        "- Early shipments dominate the graph. This might mean:\n",
        " - Over-buffering time, which may lead to unnecessary early warehousing costs.\n",
        " - There's room to fine-tune schedules and cost optimization."
      ]
    },
    {
      "cell_type": "markdown",
      "metadata": {
        "id": "1aE7_CDXuiVZ"
      },
      "source": [
        "### 4.4 Identify Optimization Opportunities"
      ]
    },
    {
      "cell_type": "markdown",
      "metadata": {
        "id": "Q9guCYoivCFb"
      },
      "source": [
        "#### 4.4.1 Most overloaded plants (by Unit quantity)"
      ]
    },
    {
      "cell_type": "code",
      "execution_count": null,
      "metadata": {
        "colab": {
          "base_uri": "https://localhost:8080/",
          "height": 536
        },
        "id": "DWnufElPo-VT",
        "outputId": "f786a96d-8477-4820-9169-744ef5c7cacd"
      },
      "outputs": [
        {
          "data": {
            "image/png": "[encoded data removed]",
            "text/plain": [
              "<Figure size 1000x500 with 1 Axes>"
            ]
          },
          "metadata": {},
          "output_type": "display_data"
        }
      ],
      "source": [
        "#Most overloaded plants (by Unit quantity):\n",
        "plant_load = df.groupby('Plant Code')['Unit quantity'].sum().sort_values(ascending=False)\n",
        "plant_load.plot(kind='bar', figsize=(10,5), title='Total Units Processed per Plant')\n",
        "plt.ylabel(\"Total Units\")\n",
        "plt.show()\n"
      ]
    },
    {
      "cell_type": "markdown",
      "metadata": {
        "id": "V4B92kqEuwMw"
      },
      "source": [
        "#### 4.4.2 Orders per Destination Port"
      ]
    },
    {
      "cell_type": "code",
      "execution_count": null,
      "metadata": {
        "colab": {
          "base_uri": "https://localhost:8080/",
          "height": 512
        },
        "id": "FAySSpQDpFuM",
        "outputId": "16a54d61-522b-4b3b-f09e-2d7e30984296"
      },
      "outputs": [
        {
          "data": {
            "image/png": "[encoded data removed]",
            "text/plain": [
              "<Figure size 640x480 with 1 Axes>"
            ]
          },
          "metadata": {},
          "output_type": "display_data"
        }
      ],
      "source": [
        "#Orders per Destination Port:\n",
        "df['Destination Port'].value_counts().plot(kind='bar', title='Destination Port Frequency')\n",
        "plt.ylabel(\"Order Count\")\n",
        "plt.show()"
      ]
    },
    {
      "cell_type": "markdown",
      "metadata": {
        "id": "a6n_QEMep3XQ"
      },
      "source": [
        "## 5) Feature engineering"
      ]
    },
    {
      "cell_type": "markdown",
      "metadata": {
        "id": "5elMi4k1vjlI"
      },
      "source": [
        "\n",
        "\n",
        "### 5.1 Weight per unit"
      ]
    },
    {
      "cell_type": "markdown",
      "metadata": {
        "id": "k1ceh37zvrQM"
      },
      "source": [
        "**Weight per unit = Weight / Unit quantity**\n",
        "\n",
        "Why?\n",
        "- Shipping costs (from FreightRates) are often weight-dependent.\n",
        "- But freight rates are usually per unit or per kg depending on the route and carrier.\n",
        "- By calculating average weight per unit, you capture the density or heaviness of products, which can:\n",
        "- Help identify high-cost orders.\n",
        "- Allow you to cluster orders based on freight characteristics.\n",
        "- Influence warehouse selection (e.g., avoid sending dense orders through expensive lanes)."
      ]
    },
    {
      "cell_type": "code",
      "execution_count": null,
      "metadata": {
        "id": "-gakTeEY5Ffq"
      },
      "outputs": [],
      "source": [
        "df['Weight per unit'] = df['Weight'] / df['Unit quantity']"
      ]
    },
    {
      "cell_type": "markdown",
      "metadata": {
        "id": "p4_PeINj3olX"
      },
      "source": [
        "### 5.2 IsLate = Ship Late Day count > 0"
      ]
    },
    {
      "cell_type": "markdown",
      "metadata": {
        "id": "EnvQv5dh4FjB"
      },
      "source": [
        "Why?\n",
        "- SLA (Service Level Agreement) compliance is critical.\n",
        "- If this flag is True, it indicates:\n",
        " - Missed delivery target.\n",
        " - Potential penalties or customer dissatisfaction.\n",
        "- You can:\n",
        " - Quantify % of late shipments.\n",
        " - Analyze which routes/carriers/warehouses cause delays.\n",
        " - Prioritize alternate routing in optimization for high-late-risk orders.\n",
        "- Helps in cost + penalty modeling."
      ]
    },
    {
      "cell_type": "code",
      "execution_count": null,
      "metadata": {
        "id": "Hnvr1GOy5JCL"
      },
      "outputs": [],
      "source": [
        "df['IsLate'] = df['Ship Late Day count'] > 0"
      ]
    },
    {
      "cell_type": "markdown",
      "metadata": {
        "id": "RA3pZ_8a4kIe"
      },
      "source": [
        "### 5.3 IsEarly = Ship ahead day count > 0"
      ]
    },
    {
      "cell_type": "markdown",
      "metadata": {
        "id": "F7YWoyOM4q09"
      },
      "source": [
        "Why?\n",
        "- Early shipping isn’t always good — it can:\n",
        "- Increase storage costs on the customer end.\n",
        "- Lead to under-utilized transport capacity if shipments are split early.\n",
        "- For optimization:\n",
        " - Early shipments may signal inefficiency in warehouse planning.\n",
        " - You can track if some plants habitually ship earlier than necessary.\n",
        " - Helps plan just-in-time (JIT) strategies better."
      ]
    },
    {
      "cell_type": "code",
      "execution_count": null,
      "metadata": {
        "id": "ZlXJjhF1pIjo"
      },
      "outputs": [],
      "source": [
        "df['IsEarly'] = df['Ship ahead day count'] > 0"
      ]
    },
    {
      "cell_type": "code",
      "execution_count": null,
      "metadata": {
        "colab": {
          "base_uri": "https://localhost:8080/",
          "height": 310
        },
        "id": "cDKrUz6SqJRL",
        "outputId": "640a9aab-0ff7-4597-ef87-31690572adaa"
      },
      "outputs": [
        {
          "data": {
            "application/vnd.google.colaboratory.intrinsic+json": {
              "summary": "{\n  \"name\": \"df\",\n  \"rows\": 9215,\n  \"fields\": [\n    {\n      \"column\": \"Order ID\",\n      \"properties\": {\n        \"dtype\": \"number\",\n        \"std\": 83816.2927897041,\n        \"min\": 1447125805.7,\n        \"max\": 1447425230.7,\n        \"num_unique_values\": 9215,\n        \"samples\": [\n          1447305235.7,\n          1447400291.7,\n          1447245106.7\n        ],\n        \"semantic_type\": \"\",\n        \"description\": \"\"\n      }\n    },\n    {\n      \"column\": \"Order Date\",\n      \"properties\": {\n        \"dtype\": \"date\",\n        \"min\": \"2013-05-26 00:00:00\",\n        \"max\": \"2013-05-26 00:00:00\",\n        \"num_unique_values\": 1,\n        \"samples\": [\n          \"2013-05-26 00:00:00\"\n        ],\n        \"semantic_type\": \"\",\n        \"description\": \"\"\n      }\n    },\n    {\n      \"column\": \"Origin Port\",\n      \"properties\": {\n        \"dtype\": \"category\",\n        \"num_unique_values\": 3,\n        \"samples\": [\n          \"PORT09\"\n        ],\n        \"semantic_type\": \"\",\n        \"description\": \"\"\n      }\n    },\n    {\n      \"column\": \"Carrier\",\n      \"properties\": {\n        \"dtype\": \"category\",\n        \"num_unique_values\": 3,\n        \"samples\": [\n          \"V44_3\"\n        ],\n        \"semantic_type\": \"\",\n        \"description\": \"\"\n      }\n    },\n    {\n      \"column\": \"TPT\",\n      \"properties\": {\n        \"dtype\": \"number\",\n        \"std\": 0,\n        \"min\": 0,\n        \"max\": 4,\n        \"num_unique_values\": 5,\n        \"samples\": [\n          4\n        ],\n        \"semantic_type\": \"\",\n        \"description\": \"\"\n      }\n    },\n    {\n      \"column\": \"Service Level\",\n      \"properties\": {\n        \"dtype\": \"category\",\n        \"num_unique_values\": 3,\n        \"samples\": [\n          \"CRF\"\n        ],\n        \"semantic_type\": \"\",\n        \"description\": \"\"\n      }\n    },\n    {\n      \"column\": \"Ship ahead day count\",\n      \"properties\": {\n        \"dtype\": \"number\",\n        \"std\": 1,\n        \"min\": 0,\n        \"max\": 6,\n        \"num_unique_values\": 5,\n        \"samples\": [\n          0\n        ],\n        \"semantic_type\": \"\",\n        \"description\": \"\"\n      }\n    },\n    {\n      \"column\": \"Ship Late Day count\",\n      \"properties\": {\n        \"dtype\": \"number\",\n        \"std\": 0,\n        \"min\": 0,\n        \"max\": 6,\n        \"num_unique_values\": 4,\n        \"samples\": [\n          6\n        ],\n        \"semantic_type\": \"\",\n        \"description\": \"\"\n      }\n    },\n    {\n      \"column\": \"Customer\",\n      \"properties\": {\n        \"dtype\": \"category\",\n        \"num_unique_values\": 46,\n        \"samples\": [\n          \"V555555555555555_44\"\n        ],\n        \"semantic_type\": \"\",\n        \"description\": \"\"\n      }\n    },\n    {\n      \"column\": \"Product ID\",\n      \"properties\": {\n        \"dtype\": \"number\",\n        \"std\": 15265,\n        \"min\": 1613321,\n        \"max\": 1702654,\n        \"num_unique_values\": 772,\n        \"samples\": [\n          1685213\n        ],\n        \"semantic_type\": \"\",\n        \"description\": \"\"\n      }\n    },\n    {\n      \"column\": \"Plant Code\",\n      \"properties\": {\n        \"dtype\": \"category\",\n        \"num_unique_values\": 7,\n        \"samples\": [\n          \"PLANT16\"\n        ],\n        \"semantic_type\": \"\",\n        \"description\": \"\"\n      }\n    },\n    {\n      \"column\": \"Destination Port\",\n      \"properties\": {\n        \"dtype\": \"category\",\n        \"num_unique_values\": 1,\n        \"samples\": [\n          \"PORT09\"\n        ],\n        \"semantic_type\": \"\",\n        \"description\": \"\"\n      }\n    },\n    {\n      \"column\": \"Unit quantity\",\n      \"properties\": {\n        \"dtype\": \"number\",\n        \"std\": 15965,\n        \"min\": 235,\n        \"max\": 561847,\n        \"num_unique_values\": 2624,\n        \"samples\": [\n          5123\n        ],\n        \"semantic_type\": \"\",\n        \"description\": \"\"\n      }\n    },\n    {\n      \"column\": \"Weight\",\n      \"properties\": {\n        \"dtype\": \"number\",\n        \"std\": 66.56906366054285,\n        \"min\": 0.0,\n        \"max\": 2338.4051259623893,\n        \"num_unique_values\": 5899,\n        \"samples\": [\n          44.21704643092323\n        ],\n        \"semantic_type\": \"\",\n        \"description\": \"\"\n      }\n    },\n    {\n      \"column\": \"Weight per unit\",\n      \"properties\": {\n        \"dtype\": \"number\",\n        \"std\": 0.08344475612597414,\n        \"min\": 0.0,\n        \"max\": 7.022237615502671,\n        \"num_unique_values\": 9115,\n        \"samples\": [\n          0.001795291989515222\n        ],\n        \"semantic_type\": \"\",\n        \"description\": \"\"\n      }\n    },\n    {\n      \"column\": \"IsLate\",\n      \"properties\": {\n        \"dtype\": \"boolean\",\n        \"num_unique_values\": 2,\n        \"samples\": [\n          true\n        ],\n        \"semantic_type\": \"\",\n        \"description\": \"\"\n      }\n    },\n    {\n      \"column\": \"IsEarly\",\n      \"properties\": {\n        \"dtype\": \"boolean\",\n        \"num_unique_values\": 2,\n        \"samples\": [\n          false\n        ],\n        \"semantic_type\": \"\",\n        \"description\": \"\"\n      }\n    }\n  ]\n}",
              "type": "dataframe",
              "variable_name": "df"
            },
            "text/html": [
              "\n",
              "  <div id=\"df-260bc841-2f47-40b4-bd0b-ed4f52826183\" class=\"colab-df-container\">\n",
              "    <div>\n",
              "<style scoped>\n",
              "    .dataframe tbody tr th:only-of-type {\n",
              "        vertical-align: middle;\n",
              "    }\n",
              "\n",
              "    .dataframe tbody tr th {\n",
              "        vertical-align: top;\n",
              "    }\n",
              "\n",
              "    .dataframe thead th {\n",
              "        text-align: right;\n",
              "    }\n",
              "</style>\n",
              "<table border=\"1\" class=\"dataframe\">\n",
              "  <thead>\n",
              "    <tr style=\"text-align: right;\">\n",
              "      <th></th>\n",
              "      <th>Order ID</th>\n",
              "      <th>Order Date</th>\n",
              "      <th>Origin Port</th>\n",
              "      <th>Carrier</th>\n",
              "      <th>TPT</th>\n",
              "      <th>Service Level</th>\n",
              "      <th>Ship ahead day count</th>\n",
              "      <th>Ship Late Day count</th>\n",
              "      <th>Customer</th>\n",
              "      <th>Product ID</th>\n",
              "      <th>Plant Code</th>\n",
              "      <th>Destination Port</th>\n",
              "      <th>Unit quantity</th>\n",
              "      <th>Weight</th>\n",
              "      <th>Weight per unit</th>\n",
              "      <th>IsLate</th>\n",
              "      <th>IsEarly</th>\n",
              "    </tr>\n",
              "  </thead>\n",
              "  <tbody>\n",
              "    <tr>\n",
              "      <th>0</th>\n",
              "      <td>1.447296e+09</td>\n",
              "      <td>2013-05-26</td>\n",
              "      <td>PORT09</td>\n",
              "      <td>V44_3</td>\n",
              "      <td>1</td>\n",
              "      <td>CRF</td>\n",
              "      <td>3</td>\n",
              "      <td>0</td>\n",
              "      <td>V55555_53</td>\n",
              "      <td>1700106</td>\n",
              "      <td>PLANT16</td>\n",
              "      <td>PORT09</td>\n",
              "      <td>808</td>\n",
              "      <td>14.30</td>\n",
              "      <td>0.017698</td>\n",
              "      <td>False</td>\n",
              "      <td>True</td>\n",
              "    </tr>\n",
              "    <tr>\n",
              "      <th>1</th>\n",
              "      <td>1.447158e+09</td>\n",
              "      <td>2013-05-26</td>\n",
              "      <td>PORT09</td>\n",
              "      <td>V44_3</td>\n",
              "      <td>1</td>\n",
              "      <td>CRF</td>\n",
              "      <td>3</td>\n",
              "      <td>0</td>\n",
              "      <td>V55555_53</td>\n",
              "      <td>1700106</td>\n",
              "      <td>PLANT16</td>\n",
              "      <td>PORT09</td>\n",
              "      <td>3188</td>\n",
              "      <td>87.94</td>\n",
              "      <td>0.027585</td>\n",
              "      <td>False</td>\n",
              "      <td>True</td>\n",
              "    </tr>\n",
              "    <tr>\n",
              "      <th>2</th>\n",
              "      <td>1.447139e+09</td>\n",
              "      <td>2013-05-26</td>\n",
              "      <td>PORT09</td>\n",
              "      <td>V44_3</td>\n",
              "      <td>1</td>\n",
              "      <td>CRF</td>\n",
              "      <td>3</td>\n",
              "      <td>0</td>\n",
              "      <td>V55555_53</td>\n",
              "      <td>1700106</td>\n",
              "      <td>PLANT16</td>\n",
              "      <td>PORT09</td>\n",
              "      <td>2331</td>\n",
              "      <td>61.20</td>\n",
              "      <td>0.026255</td>\n",
              "      <td>False</td>\n",
              "      <td>True</td>\n",
              "    </tr>\n",
              "    <tr>\n",
              "      <th>3</th>\n",
              "      <td>1.447364e+09</td>\n",
              "      <td>2013-05-26</td>\n",
              "      <td>PORT09</td>\n",
              "      <td>V44_3</td>\n",
              "      <td>1</td>\n",
              "      <td>CRF</td>\n",
              "      <td>3</td>\n",
              "      <td>0</td>\n",
              "      <td>V55555_53</td>\n",
              "      <td>1700106</td>\n",
              "      <td>PLANT16</td>\n",
              "      <td>PORT09</td>\n",
              "      <td>847</td>\n",
              "      <td>16.16</td>\n",
              "      <td>0.019079</td>\n",
              "      <td>False</td>\n",
              "      <td>True</td>\n",
              "    </tr>\n",
              "    <tr>\n",
              "      <th>4</th>\n",
              "      <td>1.447364e+09</td>\n",
              "      <td>2013-05-26</td>\n",
              "      <td>PORT09</td>\n",
              "      <td>V44_3</td>\n",
              "      <td>1</td>\n",
              "      <td>CRF</td>\n",
              "      <td>3</td>\n",
              "      <td>0</td>\n",
              "      <td>V55555_53</td>\n",
              "      <td>1700106</td>\n",
              "      <td>PLANT16</td>\n",
              "      <td>PORT09</td>\n",
              "      <td>2163</td>\n",
              "      <td>52.34</td>\n",
              "      <td>0.024198</td>\n",
              "      <td>False</td>\n",
              "      <td>True</td>\n",
              "    </tr>\n",
              "  </tbody>\n",
              "</table>\n",
              "</div>\n",
              "    <div class=\"colab-df-buttons\">\n",
              "\n",
              "  <div class=\"colab-df-container\">\n",
              "    <button class=\"colab-df-convert\" onclick=\"convertToInteractive('df-260bc841-2f47-40b4-bd0b-ed4f52826183')\"\n",
              "            title=\"Convert this dataframe to an interactive table.\"\n",
              "            style=\"display:none;\">\n",
              "\n",
              "  <svg xmlns=\"http://www.w3.org/2000/svg\" height=\"24px\" viewBox=\"0 -960 960 960\">\n",
              "    <path d=\"M120-120v-720h720v720H120Zm60-500h600v-160H180v160Zm220 220h160v-160H400v160Zm0 220h160v-160H400v160ZM180-400h160v-160H180v160Zm440 0h160v-160H620v160ZM180-180h160v-160H180v160Zm440 0h160v-160H620v160Z\"/>\n",
              "  </svg>\n",
              "    </button>\n",
              "\n",
              "  <style>\n",
              "    .colab-df-container {\n",
              "      display:flex;\n",
              "      gap: 12px;\n",
              "    }\n",
              "\n",
              "    .colab-df-convert {\n",
              "      background-color: #E8F0FE;\n",
              "      border: none;\n",
              "      border-radius: 50%;\n",
              "      cursor: pointer;\n",
              "      display: none;\n",
              "      fill: #1967D2;\n",
              "      height: 32px;\n",
              "      padding: 0 0 0 0;\n",
              "      width: 32px;\n",
              "    }\n",
              "\n",
              "    .colab-df-convert:hover {\n",
              "      background-color: #E2EBFA;\n",
              "      box-shadow: 0px 1px 2px rgba(60, 64, 67, 0.3), 0px 1px 3px 1px rgba(60, 64, 67, 0.15);\n",
              "      fill: #174EA6;\n",
              "    }\n",
              "\n",
              "    .colab-df-buttons div {\n",
              "      margin-bottom: 4px;\n",
              "    }\n",
              "\n",
              "    [theme=dark] .colab-df-convert {\n",
              "      background-color: #3B4455;\n",
              "      fill: #D2E3FC;\n",
              "    }\n",
              "\n",
              "    [theme=dark] .colab-df-convert:hover {\n",
              "      background-color: #434B5C;\n",
              "      box-shadow: 0px 1px 3px 1px rgba(0, 0, 0, 0.15);\n",
              "      filter: drop-shadow(0px 1px 2px rgba(0, 0, 0, 0.3));\n",
              "      fill: #FFFFFF;\n",
              "    }\n",
              "  </style>\n",
              "\n",
              "    <script>\n",
              "      const buttonEl =\n",
              "        document.querySelector('#df-260bc841-2f47-40b4-bd0b-ed4f52826183 button.colab-df-convert');\n",
              "      buttonEl.style.display =\n",
              "        google.colab.kernel.accessAllowed ? 'block' : 'none';\n",
              "\n",
              "      async function convertToInteractive(key) {\n",
              "        const element = document.querySelector('#df-260bc841-2f47-40b4-bd0b-ed4f52826183');\n",
              "        const dataTable =\n",
              "          await google.colab.kernel.invokeFunction('convertToInteractive',\n",
              "                                                    [key], {});\n",
              "        if (!dataTable) return;\n",
              "\n",
              "        const docLinkHtml = 'Like what you see? Visit the ' +\n",
              "          '<a target=\"_blank\" href=https://colab.research.google.com/notebooks/data_table.ipynb>data table notebook</a>'\n",
              "          + ' to learn more about interactive tables.';\n",
              "        element.innerHTML = '';\n",
              "        dataTable['output_type'] = 'display_data';\n",
              "        await google.colab.output.renderOutput(dataTable, element);\n",
              "        const docLink = document.createElement('div');\n",
              "        docLink.innerHTML = docLinkHtml;\n",
              "        element.appendChild(docLink);\n",
              "      }\n",
              "    </script>\n",
              "  </div>\n",
              "\n",
              "\n",
              "    <div id=\"df-d57bd1f4-da3f-49fd-b77d-56ce1839a2ad\">\n",
              "      <button class=\"colab-df-quickchart\" onclick=\"quickchart('df-d57bd1f4-da3f-49fd-b77d-56ce1839a2ad')\"\n",
              "                title=\"Suggest charts\"\n",
              "                style=\"display:none;\">\n",
              "\n",
              "<svg xmlns=\"http://www.w3.org/2000/svg\" height=\"24px\"viewBox=\"0 0 24 24\"\n",
              "     width=\"24px\">\n",
              "    <g>\n",
              "        <path d=\"M19 3H5c-1.1 0-2 .9-2 2v14c0 1.1.9 2 2 2h14c1.1 0 2-.9 2-2V5c0-1.1-.9-2-2-2zM9 17H7v-7h2v7zm4 0h-2V7h2v10zm4 0h-2v-4h2v4z\"/>\n",
              "    </g>\n",
              "</svg>\n",
              "      </button>\n",
              "\n",
              "<style>\n",
              "  .colab-df-quickchart {\n",
              "      --bg-color: #E8F0FE;\n",
              "      --fill-color: #1967D2;\n",
              "      --hover-bg-color: #E2EBFA;\n",
              "      --hover-fill-color: #174EA6;\n",
              "      --disabled-fill-color: #AAA;\n",
              "      --disabled-bg-color: #DDD;\n",
              "  }\n",
              "\n",
              "  [theme=dark] .colab-df-quickchart {\n",
              "      --bg-color: #3B4455;\n",
              "      --fill-color: #D2E3FC;\n",
              "      --hover-bg-color: #434B5C;\n",
              "      --hover-fill-color: #FFFFFF;\n",
              "      --disabled-bg-color: #3B4455;\n",
              "      --disabled-fill-color: #666;\n",
              "  }\n",
              "\n",
              "  .colab-df-quickchart {\n",
              "    background-color: var(--bg-color);\n",
              "    border: none;\n",
              "    border-radius: 50%;\n",
              "    cursor: pointer;\n",
              "    display: none;\n",
              "    fill: var(--fill-color);\n",
              "    height: 32px;\n",
              "    padding: 0;\n",
              "    width: 32px;\n",
              "  }\n",
              "\n",
              "  .colab-df-quickchart:hover {\n",
              "    background-color: var(--hover-bg-color);\n",
              "    box-shadow: 0 1px 2px rgba(60, 64, 67, 0.3), 0 1px 3px 1px rgba(60, 64, 67, 0.15);\n",
              "    fill: var(--button-hover-fill-color);\n",
              "  }\n",
              "\n",
              "  .colab-df-quickchart-complete:disabled,\n",
              "  .colab-df-quickchart-complete:disabled:hover {\n",
              "    background-color: var(--disabled-bg-color);\n",
              "    fill: var(--disabled-fill-color);\n",
              "    box-shadow: none;\n",
              "  }\n",
              "\n",
              "  .colab-df-spinner {\n",
              "    border: 2px solid var(--fill-color);\n",
              "    border-color: transparent;\n",
              "    border-bottom-color: var(--fill-color);\n",
              "    animation:\n",
              "      spin 1s steps(1) infinite;\n",
              "  }\n",
              "\n",
              "  @keyframes spin {\n",
              "    0% {\n",
              "      border-color: transparent;\n",
              "      border-bottom-color: var(--fill-color);\n",
              "      border-left-color: var(--fill-color);\n",
              "    }\n",
              "    20% {\n",
              "      border-color: transparent;\n",
              "      border-left-color: var(--fill-color);\n",
              "      border-top-color: var(--fill-color);\n",
              "    }\n",
              "    30% {\n",
              "      border-color: transparent;\n",
              "      border-left-color: var(--fill-color);\n",
              "      border-top-color: var(--fill-color);\n",
              "      border-right-color: var(--fill-color);\n",
              "    }\n",
              "    40% {\n",
              "      border-color: transparent;\n",
              "      border-right-color: var(--fill-color);\n",
              "      border-top-color: var(--fill-color);\n",
              "    }\n",
              "    60% {\n",
              "      border-color: transparent;\n",
              "      border-right-color: var(--fill-color);\n",
              "    }\n",
              "    80% {\n",
              "      border-color: transparent;\n",
              "      border-right-color: var(--fill-color);\n",
              "      border-bottom-color: var(--fill-color);\n",
              "    }\n",
              "    90% {\n",
              "      border-color: transparent;\n",
              "      border-bottom-color: var(--fill-color);\n",
              "    }\n",
              "  }\n",
              "</style>\n",
              "\n",
              "      <script>\n",
              "        async function quickchart(key) {\n",
              "          const quickchartButtonEl =\n",
              "            document.querySelector('#' + key + ' button');\n",
              "          quickchartButtonEl.disabled = true;  // To prevent multiple clicks.\n",
              "          quickchartButtonEl.classList.add('colab-df-spinner');\n",
              "          try {\n",
              "            const charts = await google.colab.kernel.invokeFunction(\n",
              "                'suggestCharts', [key], {});\n",
              "          } catch (error) {\n",
              "            console.error('Error during call to suggestCharts:', error);\n",
              "          }\n",
              "          quickchartButtonEl.classList.remove('colab-df-spinner');\n",
              "          quickchartButtonEl.classList.add('colab-df-quickchart-complete');\n",
              "        }\n",
              "        (() => {\n",
              "          let quickchartButtonEl =\n",
              "            document.querySelector('#df-d57bd1f4-da3f-49fd-b77d-56ce1839a2ad button');\n",
              "          quickchartButtonEl.style.display =\n",
              "            google.colab.kernel.accessAllowed ? 'block' : 'none';\n",
              "        })();\n",
              "      </script>\n",
              "    </div>\n",
              "\n",
              "    </div>\n",
              "  </div>\n"
            ],
            "text/plain": [
              "       Order ID Order Date Origin Port Carrier  TPT Service Level  \\\n",
              "0  1.447296e+09 2013-05-26      PORT09   V44_3    1           CRF   \n",
              "1  1.447158e+09 2013-05-26      PORT09   V44_3    1           CRF   \n",
              "2  1.447139e+09 2013-05-26      PORT09   V44_3    1           CRF   \n",
              "3  1.447364e+09 2013-05-26      PORT09   V44_3    1           CRF   \n",
              "4  1.447364e+09 2013-05-26      PORT09   V44_3    1           CRF   \n",
              "\n",
              "   Ship ahead day count  Ship Late Day count   Customer  Product ID  \\\n",
              "0                     3                    0  V55555_53     1700106   \n",
              "1                     3                    0  V55555_53     1700106   \n",
              "2                     3                    0  V55555_53     1700106   \n",
              "3                     3                    0  V55555_53     1700106   \n",
              "4                     3                    0  V55555_53     1700106   \n",
              "\n",
              "  Plant Code Destination Port  Unit quantity  Weight  Weight per unit  IsLate  \\\n",
              "0    PLANT16           PORT09            808   14.30         0.017698   False   \n",
              "1    PLANT16           PORT09           3188   87.94         0.027585   False   \n",
              "2    PLANT16           PORT09           2331   61.20         0.026255   False   \n",
              "3    PLANT16           PORT09            847   16.16         0.019079   False   \n",
              "4    PLANT16           PORT09           2163   52.34         0.024198   False   \n",
              "\n",
              "   IsEarly  \n",
              "0     True  \n",
              "1     True  \n",
              "2     True  \n",
              "3     True  \n",
              "4     True  "
            ]
          },
          "execution_count": 22,
          "metadata": {},
          "output_type": "execute_result"
        }
      ],
      "source": [
        "df.head()"
      ]
    },
    {
      "cell_type": "code",
      "execution_count": null,
      "metadata": {
        "id": "U4TlLpOKqbwN"
      },
      "outputs": [],
      "source": [
        "\n"
      ]
    },
    {
      "cell_type": "code",
      "execution_count": null,
      "metadata": {
        "id": "y7FPevelr3iw"
      },
      "outputs": [],
      "source": []
    }
  ],
  "metadata": {
    "colab": {
      "provenance": [],
      "toc_visible": true
    },
    "kernelspec": {
      "display_name": "myenv",
      "language": "python",
      "name": "myenv"
    },
    "language_info": {
      "codemirror_mode": {
        "name": "ipython",
        "version": 3
      },
      "file_extension": ".py",
      "mimetype": "text/x-python",
      "name": "python",
      "nbconvert_exporter": "python",
      "pygments_lexer": "ipython3",
      "version": "3.8.20"
    }
  },
  "nbformat": 4,
  "nbformat_minor": 0
}
